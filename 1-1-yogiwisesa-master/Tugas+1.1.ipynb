{
 "cells": [
  {
   "cell_type": "markdown",
   "metadata": {},
   "source": [
    "Nama: Yogi Wisesa Chandra\n",
    "NIM: 1301154282\n",
    "Kelas: IF 39-02\n",
    "Kode Soal: C5"
   ]
  },
  {
   "cell_type": "code",
   "execution_count": 1,
   "metadata": {
    "collapsed": false,
    "scrolled": true
   },
   "outputs": [
    {
     "name": "stdout",
     "output_type": "stream",
     "text": [
      "w: \n"
     ]
    },
    {
     "data": {
      "text/plain": [
       "array([[  1.59002205],\n",
       "       [-18.72499025],\n",
       "       [ -1.41811603]])"
      ]
     },
     "execution_count": 1,
     "metadata": {},
     "output_type": "execute_result"
    }
   ],
   "source": [
    "# 1\n",
    "import numpy as np\n",
    "import matplotlib.pyplot as plt\n",
    "\n",
    "data = np.genfromtxt('train1.csv', delimiter = ',') \n",
    "x = data[:,0:-1]  # jumlah yang diambil (baris), kolom awal, kolom akhir\n",
    "y = data[:,-1:] \n",
    "\n",
    "def input_matrix1(x):\n",
    "    x_ones = np.ones((x.shape[0],1))\n",
    "    x_input = np.hstack((x_ones, x, x**2)) #[x_ones, x, x^2]\n",
    "    return x_input\n",
    "\n",
    "def weight(x, y): # normal equation\n",
    "    x_trans = x.conj().transpose()\n",
    "    return np.linalg.pinv(np.dot(x_trans, x)).dot(x_trans).dot(y)\n",
    "\n",
    "\n",
    "print('w: ')\n",
    "weight(input_matrix1(x), y)\n",
    "\n",
    "#SALAH"
   ]
  },
  {
   "cell_type": "code",
   "execution_count": 4,
   "metadata": {
    "collapsed": false
   },
   "outputs": [
    {
     "name": "stdout",
     "output_type": "stream",
     "text": [
      "w: \n"
     ]
    },
    {
     "data": {
      "text/plain": [
       "array([[ 1.08935864],\n",
       "       [-0.84018704],\n",
       "       [-0.94324893],\n",
       "       [-3.11173536]])"
      ]
     },
     "execution_count": 4,
     "metadata": {},
     "output_type": "execute_result"
    }
   ],
   "source": [
    "# 2\n",
    "\n",
    "def input_matrix1(x):\n",
    "    x_ones = np.ones((x.shape[0],1))\n",
    "    x_input = np.hstack((x_ones, x, x**2, x**3)) #[x_ones, x, x^2]\n",
    "    return x_input\n",
    "\n",
    "print('w: ')\n",
    "weight(input_matrix1(x), y)\n",
    "\n",
    "#SALAH"
   ]
  },
  {
   "cell_type": "code",
   "execution_count": 14,
   "metadata": {
    "collapsed": false,
    "scrolled": false
   },
   "outputs": [
    {
     "name": "stdout",
     "output_type": "stream",
     "text": [
      "[36424.05497252]\n"
     ]
    }
   ],
   "source": [
    "#3 Salah satu model regresi multivariate linear adalah yi = f(xi) = −2.7xi + 5.9, dan jika digunakan\n",
    "#maka SSEtrain = 43454.587.\n",
    "\n",
    "#?????????????????\n",
    "def input_matrix2(x):\n",
    "    x_full = np.full((x.shape[0], 1), 5.9)\n",
    "    x = -2.7 * x\n",
    "    x = np.hstack((x, x_full))\n",
    "    return x\n",
    "\n",
    "def sse(ypred, yasli):\n",
    "    return sum((ypred - yasli)**2)\n",
    "\n",
    "# w = np.array([[-2.7], [5.9]])\n",
    "# y_predict = x.dot(w)\n",
    "# print(sse(y_predict, y))\n",
    "\n",
    "\n",
    "# input_matrix2 = input_matrix2(x)\n",
    "# w = weight(input_matrix2, y)\n",
    "# y_predict = input_matrix2.dot(w)\n",
    "# plt.plot(y_predict)\n",
    "# plt.plot(y)\n",
    "# plt.show()\n",
    "# print(sse(y_predict, y))\n",
    "\n",
    "y_pre = []\n",
    "for i in x:\n",
    "    y_pre.append((-2.7 * i) + 5.9)\n",
    "    \n",
    "    \n",
    "print(sse(y_pre, y))\n",
    "\n",
    "#SALAH"
   ]
  },
  {
   "cell_type": "code",
   "execution_count": null,
   "metadata": {
    "collapsed": true
   },
   "outputs": [],
   "source": [
    "# 4 SALAH"
   ]
  },
  {
   "cell_type": "code",
   "execution_count": 17,
   "metadata": {
    "collapsed": false
   },
   "outputs": [
    {
     "data": {
      "text/plain": [
       "array([[-18.75657813],\n",
       "       [ -2.74497709]])"
      ]
     },
     "execution_count": 17,
     "metadata": {},
     "output_type": "execute_result"
    }
   ],
   "source": [
    "#5 Jika dibangun model regresi yi = f(xi) = wxi + a maka w = −18.757 dan a = −11.851.\n",
    "def input_matrix3(x):\n",
    "    x_ones = np.ones((x.shape[0],1))\n",
    "    return np.hstack((x, x_ones))\n",
    "\n",
    "weight(input_matrix3(x), y)\n",
    "\n",
    "#SALAH"
   ]
  },
  {
   "cell_type": "code",
   "execution_count": 22,
   "metadata": {
    "collapsed": false
   },
   "outputs": [
    {
     "name": "stdout",
     "output_type": "stream",
     "text": [
      "[[ 1.       -2.864     8.202496]\n",
      " [ 1.        1.489     2.217121]\n",
      " [ 1.       -0.235     0.055225]\n",
      " [ 1.        1.092     1.192464]\n",
      " [ 1.        2.898     8.398404]]\n",
      "[[59.20981082]\n",
      " [ 7.52065644]\n",
      " [23.81774222]\n",
      " [10.78832334]\n",
      " [-1.73305392]]\n"
     ]
    },
    {
     "data": {
      "image/png": "[encoded data removed]",
      "text/plain": [
       "<matplotlib.figure.Figure at 0x7fb143e22630>"
      ]
     },
     "metadata": {},
     "output_type": "display_data"
    },
    {
     "name": "stdout",
     "output_type": "stream",
     "text": [
      "[6666.1257778]\n"
     ]
    }
   ],
   "source": [
    "# 6 yi = f(xi) = 21.274 − 10.608xi + 0.921x^2\n",
    "# data record\n",
    "# (x1, y1) = (−2.864, 73.128), \n",
    "# (x2, y2) = (1.489, 20.271),\n",
    "# (x3, y3) = (−0.235, −3.220), \n",
    "# (x4, y4) = (1.092, 0.347), \n",
    "# (x5, y5) = (2.898, −75.691)\n",
    "# SSEtes = 6666.126.\n",
    "data = np.array([[-2.864, 73.128],[1.489, 20.271],[-0.235, -3.220],[1.092, 0.347],[2.898, -75.691]])\n",
    "weight = np.array([[21.274], [-10.608], [0.921]])\n",
    "\n",
    "x = data[:,0:-1]  \n",
    "y = data[:,-1:] \n",
    "\n",
    "def input_matrix(x):\n",
    "    x_ones = np.ones((x.shape[0],1))\n",
    "    x = np.hstack((x_ones,x,x**2 ))\n",
    "    print(x)\n",
    "    return x\n",
    "\n",
    "\n",
    "input_matrix = input_matrix(x)\n",
    "y_predict = input_matrix.dot(weight)\n",
    "print(y_predict)\n",
    "plt.plot(y_predict)\n",
    "plt.plot(y)\n",
    "plt.show()\n",
    "\n",
    "print(sse(y_predict, y))\n",
    "\n",
    "#BENAR"
   ]
  },
  {
   "cell_type": "code",
   "execution_count": 6,
   "metadata": {
    "collapsed": false,
    "scrolled": true
   },
   "outputs": [
    {
     "data": {
      "image/png": "[encoded data removed]",
      "text/plain": [
       "<matplotlib.figure.Figure at 0x7f68b5f87160>"
      ]
     },
     "metadata": {},
     "output_type": "display_data"
    }
   ],
   "source": [
    "############################ DATA TRAIN 2 ###############################\n",
    "data = np.genfromtxt('train2.csv', delimiter = ',') \n",
    "x1 = data[:,0:1]  # jumlah yang diambil (baris), kolom awal, kolom akhir\n",
    "x2 = data[:,1:-1]\n",
    "y = data[:,-1:] \n",
    "\n",
    "plt.plot(data)\n",
    "plt.show()"
   ]
  },
  {
   "cell_type": "code",
   "execution_count": 7,
   "metadata": {
    "collapsed": false
   },
   "outputs": [
    {
     "data": {
      "text/plain": [
       "array([[ 4.37323217],\n",
       "       [-0.02200553],\n",
       "       [-0.01517023]])"
      ]
     },
     "execution_count": 7,
     "metadata": {},
     "output_type": "execute_result"
    }
   ],
   "source": [
    "#7\n",
    "def input_matrix(x1,x2):\n",
    "    x_ones = np.ones((x1.shape[0],1))\n",
    "    x_input = np.hstack((x_ones, x1**3, x2**3)) #[x_ones, x, x^2]\n",
    "    return x_input\n",
    "\n",
    "def weight(x, y):\n",
    "    x_trans = x.conj().transpose()\n",
    "    return np.linalg.pinv(np.dot(x_trans, x)).dot(x_trans).dot(y)\n",
    "\n",
    "matrix = input_matrix(x1,x2)\n",
    "weight(matrix, y)\n",
    "\n",
    "# SALAH"
   ]
  },
  {
   "cell_type": "code",
   "execution_count": 8,
   "metadata": {
    "collapsed": false
   },
   "outputs": [
    {
     "name": "stdout",
     "output_type": "stream",
     "text": [
      "[[-439.97907843]\n",
      " [  17.17147453]]\n"
     ]
    }
   ],
   "source": [
    "#8\n",
    "data = np.array([[-7.767,-7.111],[-0.333,0.857]])\n",
    "w = np.array([[4.443], [-8.112], [9.028], [-8.025]])\n",
    "\n",
    "x1z = data[:,0:-1]  \n",
    "x2z = data[:,-1:] \n",
    "\n",
    "def input_matrix (x1,x2):\n",
    "    x_ones = np.ones((x1.shape[0],1))\n",
    "    x = np.hstack((x_ones,x1,x2,x1*x2 ))\n",
    "    return  x\n",
    "\n",
    "\n",
    "y_predict = input_matrix(x1z,x2z).dot(w)\n",
    "\n",
    "print(y_predict)\n",
    "\n",
    "\n",
    "# data = np.array([[-2.864, 73.128],[1.489, 20.271],[-0.235, -3.220],[1.092, 0.347],[2.898, -75.691]])\n",
    "# weight = np.array([[21.274], [-10.608], [0.921]])\n",
    "\n",
    "# def input_matrix(x):\n",
    "#     x_ones = np.ones((x.shape[0],1))\n",
    "#     x = np.hstack((x_ones,x,x**2 ))\n",
    "#     print(x)\n",
    "#     return x\n",
    "\n",
    "\n",
    "# input_matrix = input_matrix(x)\n",
    "# y_predict = input_matrix.dot(weight)\n",
    "# print(y_predict)\n",
    "# plt.plot(y_predict)\n",
    "# plt.plot(y)\n",
    "# plt.show()\n",
    "\n",
    "# print(sse(y_predict, y))\n",
    "\n",
    "\n",
    "#SALAH"
   ]
  },
  {
   "cell_type": "code",
   "execution_count": 9,
   "metadata": {
    "collapsed": false
   },
   "outputs": [
    {
     "name": "stdout",
     "output_type": "stream",
     "text": [
      "(34, 1)\n",
      "(34, 1)\n",
      "(34, 1)\n"
     ]
    },
    {
     "data": {
      "text/plain": [
       "array([[ 4.51431399e+00],\n",
       "       [-1.67834851e+00],\n",
       "       [ 1.84220586e+00],\n",
       "       [-2.27500323e-03],\n",
       "       [-4.77395974e-03]])"
      ]
     },
     "execution_count": 9,
     "metadata": {},
     "output_type": "execute_result"
    }
   ],
   "source": [
    "# 9\n",
    "def input_matrix(x1,x2):\n",
    "    x_ones = np.ones((x1.shape[0],1))\n",
    "    x_input = np.hstack((x_ones, x1, x2, x1*x2, (x1+x2)**3)) #[x_ones, x, x^2]\n",
    "    return x_input\n",
    "\n",
    "def weight(x, y):\n",
    "    x_trans = x.conj().transpose()\n",
    "    return np.linalg.pinv(np.dot(x_trans, x)).dot(x_trans).dot(y)\n",
    "\n",
    "print(x1.shape)\n",
    "print(x2.shape)\n",
    "print(y.shape)\n",
    "weight(input_matrix(x1,x2), y)\n",
    "\n",
    "# BENAR"
   ]
  },
  {
   "cell_type": "code",
   "execution_count": null,
   "metadata": {
    "collapsed": true
   },
   "outputs": [],
   "source": [
    "# 10 SALAH"
   ]
  },
  {
   "cell_type": "code",
   "execution_count": null,
   "metadata": {
    "collapsed": true
   },
   "outputs": [],
   "source": []
  },
  {
   "cell_type": "code",
   "execution_count": null,
   "metadata": {
    "collapsed": true
   },
   "outputs": [],
   "source": []
  }
 ],
 "metadata": {
  "anaconda-cloud": {},
  "kernelspec": {
   "display_name": "Python [default]",
   "language": "python",
   "name": "python3"
  },
  "language_info": {
   "codemirror_mode": {
    "name": "ipython",
    "version": 3
   },
   "file_extension": ".py",
   "mimetype": "text/x-python",
   "name": "python",
   "nbconvert_exporter": "python",
   "pygments_lexer": "ipython3",
   "version": "3.5.2"
  }
 },
 "nbformat": 4,
 "nbformat_minor": 2
}
